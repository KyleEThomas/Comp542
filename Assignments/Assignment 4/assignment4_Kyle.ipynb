{
 "cells": [
  {
   "cell_type": "markdown",
   "id": "2ae441f0",
   "metadata": {},
   "source": [
    "# Assignment 4"
   ]
  },
  {
   "cell_type": "markdown",
   "id": "324c054d",
   "metadata": {},
   "source": [
    "## Number 1: "
   ]
  },
  {
   "cell_type": "code",
   "execution_count": 1,
   "id": "5cbbc8ae",
   "metadata": {},
   "outputs": [],
   "source": [
    "import pandas as pd\n",
    "import numpy as np\n",
    "import matplotlib.pyplot as plt\n",
    "from sklearn.cluster import KMeans\n",
    "from scipy.cluster.hierarchy import linkage\n",
    "import random\n",
    "import matplotlib.pyplot as plt\n",
    "\n",
    " "
   ]
  },
  {
   "cell_type": "code",
   "execution_count": 2,
   "id": "72329baa",
   "metadata": {},
   "outputs": [],
   "source": [
    "df1 = pd.read_csv('as4_1.txt', sep=\"\\t\", header=None, encoding='utf-8')\n",
    "\n",
    "df1.columns = [\"a\",\"b\",\"c\"]\n",
    "\n",
    "X1 = df1.iloc[:, :2].to_numpy()"
   ]
  },
  {
   "cell_type": "code",
   "execution_count": 3,
   "id": "d77cb4fb",
   "metadata": {},
   "outputs": [],
   "source": [
    "def euclidean2D(p1, p2):\n",
    "    xx1 = p1[0]\n",
    "    xx2 = p2[0]\n",
    "    yy1 = p1[1]\n",
    "    yy2 = p2[1]\n",
    "    \n",
    "    return np.sqrt((xx1-xx2)**2 + (yy1-yy2)**2)"
   ]
  },
  {
   "cell_type": "code",
   "execution_count": 4,
   "id": "80ee47b5",
   "metadata": {},
   "outputs": [],
   "source": [
    "def getNearestCentroid (cen, val):\n",
    "    distances = []\n",
    "    for i in cen:\n",
    "        dist = euclidean2D (i, val)\n",
    "        distances.append (dist)\n",
    "    index = distances.index(min (distances))\n",
    "    return cen [index]"
   ]
  },
  {
   "cell_type": "code",
   "execution_count": 5,
   "id": "57ad3e42",
   "metadata": {},
   "outputs": [],
   "source": [
    "def myInit (k):\n",
    "    centroids = [random.choice(X1)]; indexes = []\n",
    "    for i in range (k-1):\n",
    "        distances = []\n",
    "        for (i, value) in enumerate(X1):\n",
    "            dist = euclidean2D(getNearestCentroid(centroids, value), value)\n",
    "            distances.append (dist)\n",
    "        index = distances.index (max(distances))\n",
    "        centroids.append (X1[index])\n",
    "        indexes.append (index)\n",
    "    return centroids"
   ]
  },
  {
   "cell_type": "code",
   "execution_count": 6,
   "id": "1fbdc0c1",
   "metadata": {},
   "outputs": [],
   "source": [
    "def myAssign(cen):\n",
    "    nearestCentroidIndex = []\n",
    "    for value in X1:\n",
    "        distances = []\n",
    "        for c in cen:\n",
    "            dist = euclidean2D(value, c)\n",
    "            distances.append (dist)\n",
    "        index = distances.index (min(distances))\n",
    "        nearestCentroidIndex.append(index)\n",
    "    return nearestCentroidIndex"
   ]
  },
  {
   "cell_type": "code",
   "execution_count": 7,
   "id": "1b6cd5ee",
   "metadata": {},
   "outputs": [],
   "source": [
    "def myCentroid(cen, nearestCentroid):\n",
    "    clusters = [[]for _ in range(len(cen))]\n",
    "    for(i,v) in enumerate(nearestCentroid):\n",
    "        clusters[v].append(X1[i])\n",
    "    return clusters"
   ]
  },
  {
   "cell_type": "code",
   "execution_count": 8,
   "id": "78413076",
   "metadata": {},
   "outputs": [],
   "source": [
    "def myUpdateCentroid(clust):\n",
    "    newCen = []\n",
    "    for points in clust:\n",
    "        x = [p[0] for p in points]\n",
    "        y = [p[1] for p in points]\n",
    "        if len(points) == 0: cen = (0, 0)\n",
    "        else: cen = (sum(x) / len (points), sum(y) / len(points))\n",
    "        newCen.append (cen)\n",
    "    return newCen"
   ]
  },
  {
   "cell_type": "code",
   "execution_count": 12,
   "id": "a079c598",
   "metadata": {},
   "outputs": [],
   "source": [
    "def myPlot(clust, cen):\n",
    "    colors = [\n",
    "         'red', 'blue', 'green', 'yellow', 'pink', 'magenta',\n",
    "         'purple', 'gray', 'brown', 'linen', 'limegreen'\n",
    "    ]\n",
    "    markers = ['o', '+', '<', '^']\n",
    "    for (i, v) in enumerate(clust):\n",
    "        value = np.array(v)\n",
    "        plt.scatter(\n",
    "             value[:, 0], value[:, 1],\n",
    "             color=colors[(len (clust)+i)%len(colors)],\n",
    "             marker=markers [(len(clust)+i)%len (markers)],\n",
    "             label=f'K = {i+1}'\n",
    "        )\n",
    "    for i in cen:\n",
    "        plt.scatter(\n",
    "             i[0], i[1],\n",
    "             color='black', marker='x'\n",
    "        )\n",
    "    plt.xlabel('X')\n",
    "    plt.ylabel('Y')\n",
    "    plt.legend()\n",
    "    plt.show()"
   ]
  },
  {
   "cell_type": "code",
   "execution_count": 13,
   "id": "4291b53e",
   "metadata": {},
   "outputs": [],
   "source": [
    "def myKmeanPlusPlus (k, myTol, myMax):\n",
    "    cen = myInit (k)\n",
    "    nearest = []; iterations = 0\n",
    "    while iterations < myMax:\n",
    "        newNearest = myAssign (cen)\n",
    "        if nearest == newNearest: break\n",
    "        else: nearest = newNearest\n",
    "        clust = myCentroid (cen, nearest)\n",
    "        cen = myUpdateCentroid (clust)\n",
    "        iterations += 1\n",
    "    myPlot(clust, cen)"
   ]
  },
  {
   "cell_type": "code",
   "execution_count": 14,
   "id": "f5b8ed34",
   "metadata": {},
   "outputs": [
    {
     "data": {
      "image/png": "[encoded data removed]",
      "text/plain": [
       "<Figure size 432x288 with 1 Axes>"
      ]
     },
     "metadata": {
      "needs_background": "light"
     },
     "output_type": "display_data"
    }
   ],
   "source": [
    "myKmeanPlusPlus(13,10,50)"
   ]
  },
  {
   "cell_type": "markdown",
   "id": "c0498d87",
   "metadata": {},
   "source": [
    "## Number 2"
   ]
  },
  {
   "cell_type": "code",
   "execution_count": 15,
   "id": "c0683ac4",
   "metadata": {},
   "outputs": [],
   "source": [
    "import pandas as pd\n",
    "from sklearn.datasets import make_moons\n",
    "import matplotlib.pyplot as plt\n",
    "import numpy as np\n",
    "from sklearn.cluster import DBSCAN\n",
    "from sklearn.metrics import accuracy_score\n"
   ]
  },
  {
   "cell_type": "code",
   "execution_count": 16,
   "id": "b9e7f9f1",
   "metadata": {},
   "outputs": [
    {
     "name": "stdout",
     "output_type": "stream",
     "text": [
      "Class labels: [1 2 3 4 5 6]\n",
      "       d      e  f\n",
      "0  27.70  20.85  1\n",
      "1  29.90  19.95  1\n",
      "2  26.80  19.05  1\n",
      "3  28.35  18.25  1\n",
      "4  30.40  17.85  1\n"
     ]
    }
   ],
   "source": [
    "df2 = pd.read_csv('as4_2.csv', sep=\",\", header=None, encoding='utf-8')\n",
    "\n",
    "df2.columns = [\"d\",\"e\",\"f\"]\n",
    "\n",
    "data2 = np.column_stack([df2.d, df2.e])\n",
    "\n",
    "X2 = data2\n",
    "y2 = df2.f\n",
    "\n",
    "print('Class labels:', np.unique(y2))\n",
    "\n",
    "df2.head()\n",
    "\n",
    "print(df2.head())"
   ]
  },
  {
   "cell_type": "code",
   "execution_count": 17,
   "id": "29d7e91f",
   "metadata": {},
   "outputs": [],
   "source": [
    "def getLabel(da):\n",
    "    print (\"True Labels: \")\n",
    "    print(np.unique(y2))"
   ]
  },
  {
   "cell_type": "code",
   "execution_count": 18,
   "id": "a8a798db",
   "metadata": {},
   "outputs": [
    {
     "name": "stdout",
     "output_type": "stream",
     "text": [
      "True Labels: \n",
      "[1 2 3 4 5 6]\n"
     ]
    }
   ],
   "source": [
    "getLabel(data2)"
   ]
  },
  {
   "cell_type": "code",
   "execution_count": 19,
   "id": "9f9ba2a5",
   "metadata": {},
   "outputs": [],
   "source": [
    "def getData(da):\n",
    "    print(\"Vectors: \")\n",
    "    print(da)"
   ]
  },
  {
   "cell_type": "code",
   "execution_count": 20,
   "id": "b8f93988",
   "metadata": {},
   "outputs": [
    {
     "name": "stdout",
     "output_type": "stream",
     "text": [
      "Vectors: \n",
      "[[27.7  20.85]\n",
      " [29.9  19.95]\n",
      " [26.8  19.05]\n",
      " [28.35 18.25]\n",
      " [30.4  17.85]\n",
      " [27.25 16.7 ]\n",
      " [29.05 16.  ]\n",
      " [27.15 14.85]\n",
      " [28.2  13.95]\n",
      " [30.35 13.85]\n",
      " [27.25 11.95]\n",
      " [29.45 12.05]\n",
      " [31.55 12.2 ]\n",
      " [33.05 10.65]\n",
      " [29.95  9.85]\n",
      " [28.    9.75]\n",
      " [27.15  7.85]\n",
      " [29.15  8.1 ]\n",
      " [31.95  8.6 ]\n",
      " [34.7   8.55]\n",
      " [34.8  12.25]\n",
      " [36.3  15.25]\n",
      " [36.6  13.2 ]\n",
      " [38.7  14.25]\n",
      " [40.3  15.5 ]\n",
      " [42.25 14.25]\n",
      " [40.7  12.8 ]\n",
      " [38.6  12.1 ]\n",
      " [36.1  10.5 ]\n",
      " [38.35 10.4 ]\n",
      " [37.65  8.4 ]\n",
      " [40.15  8.55]\n",
      " [40.8  10.65]\n",
      " [42.9  11.25]\n",
      " [41.95  8.5 ]\n",
      " [42.45 17.45]\n",
      " [40.25 18.45]\n",
      " [42.55 19.45]\n",
      " [40.95 20.65]\n",
      " [42.25 22.15]\n",
      " [38.85 22.4 ]\n",
      " [38.4  20.  ]\n",
      " [35.25 20.2 ]\n",
      " [33.25 21.  ]\n",
      " [34.15 22.35]\n",
      " [35.55 22.5 ]\n",
      " [36.55 21.4 ]\n",
      " [33.35 19.6 ]\n",
      " [32.85 19.55]\n",
      " [32.4  19.15]\n",
      " [32.45 18.7 ]\n",
      " [32.8  18.9 ]\n",
      " [33.2  19.2 ]\n",
      " [33.7  19.05]\n",
      " [33.4  18.75]\n",
      " [33.05 18.5 ]\n",
      " [32.8  18.2 ]\n",
      " [34.   18.7 ]\n",
      " [33.85 18.25]\n",
      " [33.35 18.15]\n",
      " [32.8  17.7 ]\n",
      " [33.15 17.55]\n",
      " [33.75 17.75]\n",
      " [34.15 17.85]\n",
      " [34.35 18.35]\n",
      " [34.95 18.5 ]\n",
      " [34.75 18.05]\n",
      " [35.15 18.05]\n",
      " [35.65 18.15]\n",
      " [35.45 18.7 ]\n",
      " [36.05 18.75]\n",
      " [36.25 18.2 ]\n",
      " [36.6  18.7 ]\n",
      " [37.1  18.5 ]\n",
      " [36.75 18.1 ]\n",
      " [37.65 18.3 ]\n",
      " [37.15 17.85]\n",
      " [37.65 17.75]\n",
      " [38.05 18.1 ]\n",
      " [38.45 17.7 ]\n",
      " [38.8  17.3 ]\n",
      " [38.2  17.25]\n",
      " [38.6  16.8 ]\n",
      " [38.25 16.35]\n",
      " [37.9  16.85]\n",
      " [37.5  17.3 ]\n",
      " [37.65 16.4 ]\n",
      " [37.15 16.7 ]\n",
      " [37.   17.15]\n",
      " [36.6  17.4 ]\n",
      " [36.15 17.55]\n",
      " [35.75 17.65]\n",
      " [36.6  16.9 ]\n",
      " [36.05 16.95]\n",
      " [35.45 17.  ]\n",
      " [35.3  17.55]\n",
      " [34.9  17.  ]\n",
      " [34.75 17.45]\n",
      " [34.3  17.35]\n",
      " [34.3  16.8 ]\n",
      " [33.9  17.2 ]\n",
      " [33.35 17.05]\n",
      " [32.85 16.95]\n",
      " [33.55 16.6 ]\n",
      " [34.   16.4 ]\n",
      " [32.45 17.2 ]\n",
      " [32.1  16.85]\n",
      " [31.7  16.65]\n",
      " [31.2  16.35]\n",
      " [30.95 15.75]\n",
      " [31.15 15.35]\n",
      " [31.45 15.1 ]\n",
      " [31.75 14.7 ]\n",
      " [32.15 14.35]\n",
      " [32.65 14.15]\n",
      " [33.15 14.05]\n",
      " [33.8  13.9 ]\n",
      " [34.35 14.2 ]\n",
      " [34.3  14.85]\n",
      " [34.05 15.35]\n",
      " [33.9  15.95]\n",
      " [33.35 16.05]\n",
      " [33.   16.5 ]\n",
      " [32.45 16.6 ]\n",
      " [31.95 16.25]\n",
      " [31.5  15.85]\n",
      " [31.75 15.4 ]\n",
      " [32.15 15.8 ]\n",
      " [32.55 16.1 ]\n",
      " [32.9  15.7 ]\n",
      " [32.55 15.4 ]\n",
      " [32.05 15.2 ]\n",
      " [32.5  14.8 ]\n",
      " [33.   15.25]\n",
      " [33.5  15.6 ]\n",
      " [33.6  15.05]\n",
      " [32.9  14.7 ]\n",
      " [33.3  14.5 ]\n",
      " [33.8  14.5 ]\n",
      " [ 9.2  22.35]\n",
      " [10.9  22.35]\n",
      " [12.45 22.3 ]\n",
      " [13.95 22.05]\n",
      " [14.65 20.3 ]\n",
      " [13.15 20.8 ]\n",
      " [11.6  20.95]\n",
      " [10.25 21.25]\n",
      " [ 9.2  20.8 ]\n",
      " [ 8.05 21.55]\n",
      " [ 7.15 19.9 ]\n",
      " [ 8.55 20.  ]\n",
      " [ 8.5  19.2 ]\n",
      " [ 7.35 18.3 ]\n",
      " [ 8.25 16.65]\n",
      " [ 8.95 18.  ]\n",
      " [ 9.6  18.85]\n",
      " [ 9.65 19.75]\n",
      " [10.2  20.25]\n",
      " [10.9  20.3 ]\n",
      " [12.15 20.  ]\n",
      " [11.25 19.75]\n",
      " [10.8  19.6 ]\n",
      " [10.4  19.55]\n",
      " [10.65 19.35]\n",
      " [10.3  19.15]\n",
      " [10.95 19.1 ]\n",
      " [10.6  18.85]\n",
      " [10.05 18.1 ]\n",
      " [10.35 16.9 ]\n",
      " [10.05 15.9 ]\n",
      " [11.15 18.1 ]\n",
      " [12.1  18.75]\n",
      " [13.2  19.2 ]\n",
      " [11.5  17.1 ]\n",
      " [12.65 17.65]\n",
      " [14.45 18.35]\n",
      " [13.9  16.7 ]\n",
      " [12.6  15.8 ]\n",
      " [15.95 20.75]\n",
      " [16.95 21.6 ]\n",
      " [17.9  21.95]\n",
      " [19.   22.7 ]\n",
      " [20.45 22.75]\n",
      " [19.1  21.7 ]\n",
      " [20.4  21.4 ]\n",
      " [21.95 21.9 ]\n",
      " [18.65 20.7 ]\n",
      " [17.75 20.55]\n",
      " [17.05 19.85]\n",
      " [15.75 19.45]\n",
      " [15.75 18.25]\n",
      " [16.35 16.9 ]\n",
      " [17.2  15.9 ]\n",
      " [17.9  17.  ]\n",
      " [17.3  17.75]\n",
      " [17.   18.9 ]\n",
      " [17.8  18.65]\n",
      " [17.85 19.5 ]\n",
      " [18.5  19.9 ]\n",
      " [19.1  19.95]\n",
      " [19.55 20.55]\n",
      " [20.1  19.9 ]\n",
      " [19.55 19.3 ]\n",
      " [18.95 19.3 ]\n",
      " [18.55 19.2 ]\n",
      " [18.45 18.85]\n",
      " [18.85 18.9 ]\n",
      " [19.2  18.8 ]\n",
      " [18.75 18.55]\n",
      " [18.3  18.1 ]\n",
      " [19.1  17.8 ]\n",
      " [19.   16.75]\n",
      " [18.75 15.5 ]\n",
      " [19.65 18.2 ]\n",
      " [20.1  18.95]\n",
      " [21.25 20.4 ]\n",
      " [21.45 19.  ]\n",
      " [20.9  17.9 ]\n",
      " [20.25 17.2 ]\n",
      " [20.1  15.4 ]\n",
      " [21.4  15.95]\n",
      " [22.2  17.15]\n",
      " [11.4  12.55]\n",
      " [12.05 12.75]\n",
      " [12.7  13.  ]\n",
      " [13.35 13.05]\n",
      " [14.2  12.95]\n",
      " [15.05 12.95]\n",
      " [15.6  12.95]\n",
      " [16.1  13.1 ]\n",
      " [15.95 12.6 ]\n",
      " [15.4  12.45]\n",
      " [14.65 12.4 ]\n",
      " [13.85 12.4 ]\n",
      " [13.15 12.2 ]\n",
      " [12.65 12.4 ]\n",
      " [11.9  12.1 ]\n",
      " [12.   11.5 ]\n",
      " [12.65 11.65]\n",
      " [13.4  11.65]\n",
      " [14.1  11.7 ]\n",
      " [14.6  11.8 ]\n",
      " [15.2  11.95]\n",
      " [15.05 11.55]\n",
      " [14.45 11.2 ]\n",
      " [13.95 10.9 ]\n",
      " [13.05 11.1 ]\n",
      " [13.55 10.65]\n",
      " [12.45 10.9 ]\n",
      " [13.2  10.25]\n",
      " [11.25 11.1 ]\n",
      " [11.25 11.85]\n",
      " [10.7  12.25]\n",
      " [10.05 11.85]\n",
      " [10.6  11.6 ]\n",
      " [ 9.75 11.35]\n",
      " [10.4  10.9 ]\n",
      " [ 9.75 10.6 ]\n",
      " [ 9.75  9.8 ]\n",
      " [10.35 10.2 ]\n",
      " [10.9  10.4 ]\n",
      " [11.7  10.55]\n",
      " [12.4  10.1 ]\n",
      " [12.9   9.7 ]\n",
      " [12.35  9.65]\n",
      " [11.85 10.  ]\n",
      " [11.15  9.8 ]\n",
      " [10.65  9.55]\n",
      " [10.1   9.25]\n",
      " [10.75  9.  ]\n",
      " [11.1   9.3 ]\n",
      " [11.7   9.4 ]\n",
      " [12.15  9.1 ]\n",
      " [12.85  9.05]\n",
      " [12.45  8.7 ]\n",
      " [11.95  8.25]\n",
      " [11.7   8.85]\n",
      " [11.3   8.5 ]\n",
      " [11.55  7.95]\n",
      " [12.9   8.5 ]\n",
      " [13.25  8.05]\n",
      " [12.65  7.95]\n",
      " [12.1   7.6 ]\n",
      " [11.65  7.35]\n",
      " [12.2   7.  ]\n",
      " [11.8   6.65]\n",
      " [12.65  7.3 ]\n",
      " [13.2   7.55]\n",
      " [13.65  7.75]\n",
      " [14.35  7.55]\n",
      " [13.8   7.3 ]\n",
      " [13.35  6.85]\n",
      " [12.7   6.7 ]\n",
      " [12.45  6.25]\n",
      " [13.2   5.85]\n",
      " [13.65  6.25]\n",
      " [14.1   6.75]\n",
      " [14.7   6.9 ]\n",
      " [15.    7.5 ]\n",
      " [15.85  7.3 ]\n",
      " [15.35  7.05]\n",
      " [15.1   6.35]\n",
      " [14.45  6.3 ]\n",
      " [14.75  5.75]\n",
      " [13.95  5.8 ]\n",
      " [15.5   5.9 ]\n",
      " [15.8   6.4 ]\n",
      " [16.05  6.85]\n",
      " [16.55  7.1 ]\n",
      " [16.7   6.5 ]\n",
      " [16.25  6.1 ]\n",
      " [17.05  6.25]\n",
      " [15.85 11.55]\n",
      " [15.9  12.1 ]\n",
      " [16.3  11.65]\n",
      " [16.55 12.05]\n",
      " [16.5  12.6 ]\n",
      " [16.75 13.1 ]\n",
      " [17.5  13.  ]\n",
      " [17.15 12.65]\n",
      " [17.1  12.1 ]\n",
      " [16.9  11.7 ]\n",
      " [17.4  11.65]\n",
      " [17.55 12.1 ]\n",
      " [17.75 12.65]\n",
      " [18.3  12.75]\n",
      " [18.25 12.25]\n",
      " [18.   11.95]\n",
      " [17.85 11.5 ]\n",
      " [18.3  11.65]\n",
      " [18.6  12.  ]\n",
      " [18.85 12.45]\n",
      " [19.1  11.8 ]\n",
      " [18.85 11.45]\n",
      " [18.5  11.15]\n",
      " [18.95 10.8 ]\n",
      " [19.3  11.15]\n",
      " [19.4  10.7 ]\n",
      " [19.25 10.35]\n",
      " [19.9  10.6 ]\n",
      " [19.65 10.15]\n",
      " [19.45  9.75]\n",
      " [19.9   9.45]\n",
      " [20.3  10.05]\n",
      " [20.65 10.35]\n",
      " [21.25 10.1 ]\n",
      " [20.9   9.9 ]\n",
      " [21.65  9.65]\n",
      " [21.15  9.35]\n",
      " [20.5   9.4 ]\n",
      " [19.5   9.2 ]\n",
      " [19.95  8.85]\n",
      " [20.65  8.8 ]\n",
      " [21.2   8.7 ]\n",
      " [21.9   8.85]\n",
      " [21.75  8.25]\n",
      " [21.65  7.8 ]\n",
      " [21.05  8.  ]\n",
      " [20.3   8.2 ]\n",
      " [19.4   8.7 ]\n",
      " [19.6   8.05]\n",
      " [18.95  8.1 ]\n",
      " [20.    7.6 ]\n",
      " [20.55  7.55]\n",
      " [21.25  7.25]\n",
      " [20.85  6.85]\n",
      " [20.25  7.05]\n",
      " [19.55  7.05]\n",
      " [19.05  7.45]\n",
      " [18.35  7.6 ]\n",
      " [17.85  7.3 ]\n",
      " [18.3   7.1 ]\n",
      " [18.95  6.85]\n",
      " [19.6   6.25]\n",
      " [20.15  6.45]\n",
      " [18.8   6.25]\n",
      " [18.35  6.55]\n",
      " [17.65  6.55]\n",
      " [17.25  6.9 ]\n",
      " [17.95  6.2 ]\n",
      " [17.45  9.85]\n",
      " [17.2   9.25]\n",
      " [17.    9.6 ]\n",
      " [17.   10.05]\n",
      " [16.45 10.1 ]\n",
      " [16.5   9.8 ]\n",
      " [16.6   9.45]\n",
      " [16.6   9.05]\n",
      " [15.9   9.  ]\n",
      " [16.05  9.35]\n",
      " [16.05  9.65]\n",
      " [15.85  9.95]\n",
      " [15.35  9.9 ]\n",
      " [15.6   9.45]\n",
      " [15.3   9.15]\n",
      " [15.1   9.55]]\n"
     ]
    }
   ],
   "source": [
    "d = getData(X2)"
   ]
  },
  {
   "cell_type": "code",
   "execution_count": 21,
   "id": "1b7a6591",
   "metadata": {},
   "outputs": [
    {
     "data": {
      "image/png": "[encoded data removed]",
      "text/plain": [
       "<Figure size 432x288 with 1 Axes>"
      ]
     },
     "metadata": {
      "needs_background": "light"
     },
     "output_type": "display_data"
    }
   ],
   "source": [
    "groups = df2.groupby(\"f\")\n",
    "\n",
    "for name, group in groups:\n",
    "    plt.scatter(group.d, group.e, marker='o')\n",
    "\n",
    "plt.scatter(group.d, group.e)\n",
    "\n",
    "\n",
    "plt.tight_layout()\n",
    "plt.show()"
   ]
  },
  {
   "cell_type": "code",
   "execution_count": 22,
   "id": "40a4eb38",
   "metadata": {},
   "outputs": [],
   "source": [
    "def getDBSCAN(X2, eps, min_samples):\n",
    "    db = DBSCAN(eps, min_samples, metric='euclidean')\n",
    "    model = db.fit(X2)\n",
    "    return model.labels_"
   ]
  },
  {
   "cell_type": "code",
   "execution_count": 31,
   "id": "121ba01e",
   "metadata": {},
   "outputs": [
    {
     "name": "stderr",
     "output_type": "stream",
     "text": [
      "/opt/conda/lib/python3.9/site-packages/sklearn/utils/validation.py:70: FutureWarning: Pass min_samples=2 as keyword args. From version 1.0 (renaming of 0.25) passing these as positional arguments will result in an error\n",
      "  warnings.warn(f\"Pass {args_msg} as keyword args. From version \"\n"
     ]
    },
    {
     "data": {
      "text/plain": [
       "array([-1, -1,  0,  0,  0,  0,  0,  0,  0,  0, -1, -1, -1, -1,  1,  1, -1,\n",
       "        1, -1, -1,  0,  0, -1, -1, -1, -1, -1,  2, -1,  2, -1,  3, -1, -1,\n",
       "        3, -1,  0,  4,  4,  4, -1,  0,  0,  0,  0,  0,  0,  0,  0,  0,  0,\n",
       "        0,  0,  0,  0,  0,  0,  0,  0,  0,  0,  0,  0,  0,  0,  0,  0,  0,\n",
       "        0,  0,  0,  0,  0,  0,  0,  0,  0,  0,  0,  0,  0,  0,  0,  0,  0,\n",
       "        0,  0,  0,  0,  0,  0,  0,  0,  0,  0,  0,  0,  0,  0,  0,  0,  0,\n",
       "        0,  0,  0,  0,  0,  0,  0,  0,  0,  0,  0,  0,  0,  0,  0,  0,  0,\n",
       "        0,  0,  0,  0,  0,  0,  0,  0,  0,  0,  0,  0,  0,  0,  0,  0,  0,\n",
       "        0,  0,  0,  5,  5,  5,  5,  5,  5,  5,  5,  5,  5,  5,  5,  5,  5,\n",
       "        5,  5,  5,  5,  5,  5,  5,  5,  5,  5,  5,  5,  5,  5,  5,  5,  5,\n",
       "        5,  5,  5,  5,  5,  5,  5,  5,  5,  5,  5,  5,  5,  5,  5,  5,  5,\n",
       "        5,  5,  5,  5,  5,  5,  5,  5,  5,  5,  5,  5,  5,  5,  5,  5,  5,\n",
       "        5,  5,  5,  5,  5,  5,  5,  5,  5,  5,  5,  5,  5,  5,  5,  5,  5,\n",
       "        5,  6,  6,  6,  6,  6,  6,  6,  6,  6,  6,  6,  6,  6,  6,  6,  6,\n",
       "        6,  6,  6,  6,  6,  6,  6,  6,  6,  6,  6,  6,  6,  6,  6,  6,  6,\n",
       "        6,  6,  6,  6,  6,  6,  6,  6,  6,  6,  6,  6,  6,  6,  6,  6,  6,\n",
       "        6,  6,  6,  6,  6,  6,  6,  6,  6,  6,  6,  6,  6,  6,  6,  6,  6,\n",
       "        6,  6,  6,  6,  6,  6,  6,  6,  6,  6,  6,  6,  6,  6,  6,  6,  6,\n",
       "        6,  6,  6,  6,  6,  6,  6,  6,  6,  6,  6,  6,  6,  6,  6,  6,  6,\n",
       "        6,  6,  6,  6,  6,  6,  6,  6,  6,  6,  6,  6,  6,  6,  6,  6,  6,\n",
       "        6,  6,  6,  6,  6,  6,  6,  6,  6,  6,  6,  6,  6,  6,  6,  6,  6,\n",
       "        6,  6,  6,  6,  6,  6,  6,  6,  6,  6,  6,  6,  6,  6,  6,  6,  6,\n",
       "        6,  6,  6,  6,  6,  6,  6,  6,  6,  6,  6,  6,  6,  6,  6,  6,  6,\n",
       "        6,  6,  6,  6,  6])"
      ]
     },
     "execution_count": 31,
     "metadata": {},
     "output_type": "execute_result"
    }
   ],
   "source": [
    "getDBSCAN(X2, 2, 2)"
   ]
  },
  {
   "cell_type": "code",
   "execution_count": 24,
   "id": "16864940",
   "metadata": {},
   "outputs": [
    {
     "name": "stderr",
     "output_type": "stream",
     "text": [
      "/opt/conda/lib/python3.9/site-packages/sklearn/utils/validation.py:70: FutureWarning: Pass min_samples=3 as keyword args. From version 1.0 (renaming of 0.25) passing these as positional arguments will result in an error\n",
      "  warnings.warn(f\"Pass {args_msg} as keyword args. From version \"\n"
     ]
    }
   ],
   "source": [
    "pred = getDBSCAN(X2, 2, 3)"
   ]
  },
  {
   "cell_type": "code",
   "execution_count": 25,
   "id": "adf09ff4",
   "metadata": {},
   "outputs": [],
   "source": [
    "def getAccuracy(pred, true):\n",
    "    return(accuracy_score(true, pred))"
   ]
  },
  {
   "cell_type": "code",
   "execution_count": 26,
   "id": "fc95ff53",
   "metadata": {},
   "outputs": [
    {
     "data": {
      "text/plain": [
       "0.10353535353535354"
      ]
     },
     "execution_count": 26,
     "metadata": {},
     "output_type": "execute_result"
    }
   ],
   "source": [
    "getAccuracy(df2.f, pred)"
   ]
  },
  {
   "cell_type": "code",
   "execution_count": 27,
   "id": "5316d44f",
   "metadata": {},
   "outputs": [],
   "source": [
    "df2['f'] = pred"
   ]
  },
  {
   "cell_type": "code",
   "execution_count": 28,
   "id": "9b2e5af1",
   "metadata": {},
   "outputs": [
    {
     "name": "stdout",
     "output_type": "stream",
     "text": [
      "       d      e  f\n",
      "0  27.70  20.85 -1\n",
      "1  29.90  19.95 -1\n",
      "2  26.80  19.05  0\n",
      "3  28.35  18.25  0\n",
      "4  30.40  17.85  0\n"
     ]
    }
   ],
   "source": [
    "print(df2.head())"
   ]
  },
  {
   "cell_type": "code",
   "execution_count": 29,
   "id": "20ed6d43",
   "metadata": {},
   "outputs": [],
   "source": [
    "def plotDBSCAN(df2):\n",
    "    groups = df2.groupby(\"f\")\n",
    "\n",
    "    for name, group in groups:\n",
    "        plt.scatter(group.d, group.e, marker='o')\n",
    "\n",
    "    plt.scatter(group.d, group.e)\n",
    "\n",
    "\n",
    "    plt.tight_layout()\n",
    "    plt.show()\n",
    "        "
   ]
  },
  {
   "cell_type": "code",
   "execution_count": 30,
   "id": "f2f47168",
   "metadata": {},
   "outputs": [
    {
     "data": {
      "image/png": "[encoded data removed]",
      "text/plain": [
       "<Figure size 432x288 with 1 Axes>"
      ]
     },
     "metadata": {
      "needs_background": "light"
     },
     "output_type": "display_data"
    }
   ],
   "source": [
    "plotDBSCAN(df2)"
   ]
  },
  {
   "cell_type": "markdown",
   "id": "17e72d22",
   "metadata": {},
   "source": [
    "## Number 3 "
   ]
  },
  {
   "cell_type": "code",
   "execution_count": null,
   "id": "71382633",
   "metadata": {},
   "outputs": [],
   "source": []
  }
 ],
 "metadata": {
  "kernelspec": {
   "display_name": "Python 3",
   "language": "python",
   "name": "python3"
  },
  "language_info": {
   "codemirror_mode": {
    "name": "ipython",
    "version": 3
   },
   "file_extension": ".py",
   "mimetype": "text/x-python",
   "name": "python",
   "nbconvert_exporter": "python",
   "pygments_lexer": "ipython3",
   "version": "3.9.2"
  }
 },
 "nbformat": 4,
 "nbformat_minor": 5
}
