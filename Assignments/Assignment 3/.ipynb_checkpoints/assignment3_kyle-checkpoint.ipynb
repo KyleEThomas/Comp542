{
 "cells": [
  {
   "cell_type": "markdown",
   "id": "bbd73fb7",
   "metadata": {},
   "source": [
    "# Assignment 3"
   ]
  },
  {
   "cell_type": "markdown",
   "id": "ff7bc16a",
   "metadata": {},
   "source": [
    "### Kyle Thomas "
   ]
  },
  {
   "cell_type": "markdown",
   "id": "7662f219",
   "metadata": {},
   "source": [
    "## Number 1 "
   ]
  },
  {
   "cell_type": "code",
   "execution_count": 1,
   "id": "5088316a",
   "metadata": {},
   "outputs": [
    {
     "data": {
      "text/html": [
       "<div>\n",
       "<style scoped>\n",
       "    .dataframe tbody tr th:only-of-type {\n",
       "        vertical-align: middle;\n",
       "    }\n",
       "\n",
       "    .dataframe tbody tr th {\n",
       "        vertical-align: top;\n",
       "    }\n",
       "\n",
       "    .dataframe thead th {\n",
       "        text-align: right;\n",
       "    }\n",
       "</style>\n",
       "<table border=\"1\" class=\"dataframe\">\n",
       "  <thead>\n",
       "    <tr style=\"text-align: right;\">\n",
       "      <th></th>\n",
       "      <th>0</th>\n",
       "      <th>1</th>\n",
       "      <th>2</th>\n",
       "      <th>3</th>\n",
       "      <th>4</th>\n",
       "      <th>5</th>\n",
       "      <th>6</th>\n",
       "      <th>7</th>\n",
       "      <th>8</th>\n",
       "      <th>9</th>\n",
       "      <th>...</th>\n",
       "      <th>16</th>\n",
       "      <th>17</th>\n",
       "      <th>18</th>\n",
       "      <th>19</th>\n",
       "      <th>20</th>\n",
       "      <th>21</th>\n",
       "      <th>22</th>\n",
       "      <th>23</th>\n",
       "      <th>24</th>\n",
       "      <th>25</th>\n",
       "    </tr>\n",
       "  </thead>\n",
       "  <tbody>\n",
       "    <tr>\n",
       "      <th>0</th>\n",
       "      <td>3</td>\n",
       "      <td>?</td>\n",
       "      <td>alfa-romero</td>\n",
       "      <td>gas</td>\n",
       "      <td>std</td>\n",
       "      <td>two</td>\n",
       "      <td>convertible</td>\n",
       "      <td>rwd</td>\n",
       "      <td>front</td>\n",
       "      <td>88.6</td>\n",
       "      <td>...</td>\n",
       "      <td>130</td>\n",
       "      <td>mpfi</td>\n",
       "      <td>3.47</td>\n",
       "      <td>2.68</td>\n",
       "      <td>9.0</td>\n",
       "      <td>111</td>\n",
       "      <td>5000</td>\n",
       "      <td>21</td>\n",
       "      <td>27</td>\n",
       "      <td>13495</td>\n",
       "    </tr>\n",
       "    <tr>\n",
       "      <th>1</th>\n",
       "      <td>3</td>\n",
       "      <td>?</td>\n",
       "      <td>alfa-romero</td>\n",
       "      <td>gas</td>\n",
       "      <td>std</td>\n",
       "      <td>two</td>\n",
       "      <td>convertible</td>\n",
       "      <td>rwd</td>\n",
       "      <td>front</td>\n",
       "      <td>88.6</td>\n",
       "      <td>...</td>\n",
       "      <td>130</td>\n",
       "      <td>mpfi</td>\n",
       "      <td>3.47</td>\n",
       "      <td>2.68</td>\n",
       "      <td>9.0</td>\n",
       "      <td>111</td>\n",
       "      <td>5000</td>\n",
       "      <td>21</td>\n",
       "      <td>27</td>\n",
       "      <td>16500</td>\n",
       "    </tr>\n",
       "    <tr>\n",
       "      <th>2</th>\n",
       "      <td>1</td>\n",
       "      <td>?</td>\n",
       "      <td>alfa-romero</td>\n",
       "      <td>gas</td>\n",
       "      <td>std</td>\n",
       "      <td>two</td>\n",
       "      <td>hatchback</td>\n",
       "      <td>rwd</td>\n",
       "      <td>front</td>\n",
       "      <td>94.5</td>\n",
       "      <td>...</td>\n",
       "      <td>152</td>\n",
       "      <td>mpfi</td>\n",
       "      <td>2.68</td>\n",
       "      <td>3.47</td>\n",
       "      <td>9.0</td>\n",
       "      <td>154</td>\n",
       "      <td>5000</td>\n",
       "      <td>19</td>\n",
       "      <td>26</td>\n",
       "      <td>16500</td>\n",
       "    </tr>\n",
       "    <tr>\n",
       "      <th>3</th>\n",
       "      <td>2</td>\n",
       "      <td>164</td>\n",
       "      <td>audi</td>\n",
       "      <td>gas</td>\n",
       "      <td>std</td>\n",
       "      <td>four</td>\n",
       "      <td>sedan</td>\n",
       "      <td>fwd</td>\n",
       "      <td>front</td>\n",
       "      <td>99.8</td>\n",
       "      <td>...</td>\n",
       "      <td>109</td>\n",
       "      <td>mpfi</td>\n",
       "      <td>3.19</td>\n",
       "      <td>3.40</td>\n",
       "      <td>10.0</td>\n",
       "      <td>102</td>\n",
       "      <td>5500</td>\n",
       "      <td>24</td>\n",
       "      <td>30</td>\n",
       "      <td>13950</td>\n",
       "    </tr>\n",
       "    <tr>\n",
       "      <th>4</th>\n",
       "      <td>2</td>\n",
       "      <td>164</td>\n",
       "      <td>audi</td>\n",
       "      <td>gas</td>\n",
       "      <td>std</td>\n",
       "      <td>four</td>\n",
       "      <td>sedan</td>\n",
       "      <td>4wd</td>\n",
       "      <td>front</td>\n",
       "      <td>99.4</td>\n",
       "      <td>...</td>\n",
       "      <td>136</td>\n",
       "      <td>mpfi</td>\n",
       "      <td>3.19</td>\n",
       "      <td>3.40</td>\n",
       "      <td>8.0</td>\n",
       "      <td>115</td>\n",
       "      <td>5500</td>\n",
       "      <td>18</td>\n",
       "      <td>22</td>\n",
       "      <td>17450</td>\n",
       "    </tr>\n",
       "  </tbody>\n",
       "</table>\n",
       "<p>5 rows × 26 columns</p>\n",
       "</div>"
      ],
      "text/plain": [
       "   0    1            2    3    4     5            6    7      8     9   ...  \\\n",
       "0   3    ?  alfa-romero  gas  std   two  convertible  rwd  front  88.6  ...   \n",
       "1   3    ?  alfa-romero  gas  std   two  convertible  rwd  front  88.6  ...   \n",
       "2   1    ?  alfa-romero  gas  std   two    hatchback  rwd  front  94.5  ...   \n",
       "3   2  164         audi  gas  std  four        sedan  fwd  front  99.8  ...   \n",
       "4   2  164         audi  gas  std  four        sedan  4wd  front  99.4  ...   \n",
       "\n",
       "    16    17    18    19    20   21    22  23  24     25  \n",
       "0  130  mpfi  3.47  2.68   9.0  111  5000  21  27  13495  \n",
       "1  130  mpfi  3.47  2.68   9.0  111  5000  21  27  16500  \n",
       "2  152  mpfi  2.68  3.47   9.0  154  5000  19  26  16500  \n",
       "3  109  mpfi  3.19  3.40  10.0  102  5500  24  30  13950  \n",
       "4  136  mpfi  3.19  3.40   8.0  115  5500  18  22  17450  \n",
       "\n",
       "[5 rows x 26 columns]"
      ]
     },
     "execution_count": 1,
     "metadata": {},
     "output_type": "execute_result"
    }
   ],
   "source": [
    "import pandas as pd\n",
    "\n",
    "from collections import Counter\n",
    "import math\n",
    "\n",
    "data1 = \"https://archive.ics.uci.edu/ml/machine-learning-databases/autos/imports-85.data\"\n",
    "df1 = pd.read_csv(data1,header=None, encoding='utf-8')\n",
    "\n",
    "df1.head()"
   ]
  },
  {
   "cell_type": "code",
   "execution_count": 2,
   "id": "093ae423",
   "metadata": {},
   "outputs": [],
   "source": [
    "\n",
    "make = {'alfa-romero': 0,'audi': 1,'bmw': 2,'chevrolet': 3,'dodge': 4,'honda': 5,'isuzu': 6,\n",
    "        'jaguar': 7,'mazda': 8,'mercedes-benz':9, 'mercury':10, 'mitsubishi': 11,'nissan':12,\n",
    "        'peugot':13,'plymouth': 14,'porsche': 15, 'renault': 16, \"saab\": 17,'subaru': 18,\n",
    "        'toyota': 19,'volkswagen': 20,'volvo': 21\n",
    "}\n",
    "\n",
    "fuel_type = {'diesel': 0, 'gas':1}\n",
    "aspiration = {'std':0,'turbo':1}\n",
    "num_doors = {'four':0, 'two':1, '?':2}\n",
    "body_style = {'hardtop':0, 'wagon':1, 'sedan':2, 'hatchback':3, 'convertible':4}\n",
    "drive_wheels = {'4wd':0, 'fwd':1, 'rwd':2}\n",
    "engine_location = {'front':0, 'rear':1}\n",
    "engine_type = {'dohc':0, 'dohcv':1, 'l':2, 'ohc':3, 'ohcf':4, 'ohcv':5,'rotor':6}\n",
    "num_cylinders = {'eight':0, 'five':1, 'four':2, 'six':3, 'three':4, 'twelve':5, 'two':6}\n",
    "fuel_system = {'1bbl':0, '2bbl':1, '4bbl':2, 'idi':3, 'mfi':4, 'mpfi':5, 'spdi':6, 'spfi':7}\n",
    "\n",
    "def transform_data(values):\n",
    "    for (index, value) in enumerate(values):\n",
    "        if values[index][1] == '?' : values[index][1] = 0\n",
    "        else: values[index][1] = int(values[index][1])\n",
    "        values[index][2] = make[value[2]]\n",
    "        values[index][3] = fuel_type[value[3]]\n",
    "        values[index][4] = aspiration[value[4]]\n",
    "        values[index][5] = num_doors[value[5]]\n",
    "        values[index][6] = body_style[value[6]]\n",
    "        values[index][7] = drive_wheels[value[7]]\n",
    "        values[index][8] = engine_location[value[8]]\n",
    "        values[index][14] = engine_type[value[14]]\n",
    "        values[index][15] = num_cylinders[value[15]]\n",
    "        values[index][17] = fuel_system[value[17]]\n",
    "        \n",
    "        if values[index][18] == '?': values[index][18] = 0\n",
    "        else: values[index][18] = float(values[index][18])\n",
    "            \n",
    "        if values[index][19] == '?': values[index][19] = 0\n",
    "        else: values[index][19] = float(values[index][19])\n",
    "            \n",
    "        if values[index][21] == '?': values[index][21] = 0\n",
    "        else: values[index][21] = float(values[index][21])\n",
    "            \n",
    "        if values[index][22] == '?': values[index][22] = 0\n",
    "        else: values[index][22] = float(values[index][22])\n",
    "            \n",
    "        if values[index][25] == '?': values[index][25] = 0\n",
    "        else: values[index][25] = float(values[index][25])"
   ]
  },
  {
   "cell_type": "code",
   "execution_count": 3,
   "id": "bcf27cf6",
   "metadata": {},
   "outputs": [],
   "source": [
    "def knn(data, query, k, distance_fn, choice_fn):\n",
    "    neighbor_distances_and_indices = []\n",
    "    \n",
    "    # For each example in the data\n",
    "    for index, example in enumerate(data):\n",
    "        # Calculate the distance between the query example \n",
    "        # and the current example from the data.\n",
    "        distance = distance_fn(example[:-1], query)\n",
    "        \n",
    "        # Add the distance and the index of the example to an \n",
    "        # ordered collection\n",
    "        neighbor_distances_and_indices.append((distance, index))\n",
    "    \n",
    "    # Sort the ordered collection of distances and indices from\n",
    "    # smallest to largest (in ascending order) by the distances\n",
    "    sorted_neighbor_distances_and_indices = sorted(neighbor_distances_and_indices)\n",
    "    \n",
    "    # Pick the first K entries from the sorted collection\n",
    "    k_nearest_distances_and_indices = sorted_neighbor_distances_and_indices[:k]\n",
    "    \n",
    "    # Get the labels of the selected K entries\n",
    "    k_nearest_labels = [data[i][-1] for distance, i in k_nearest_distances_and_indices]\n",
    "    \n",
    "    print(\"k_nearest_labels=\", k_nearest_labels) \n",
    "    # 7. If regression (choice_fn = mean), return the average \n",
    "    # of the K labels\n",
    "    # 8. If classification (choice_fn = mode), return the mode of \n",
    "    # the K labels\n",
    "    return k_nearest_distances_and_indices , choice_fn(k_nearest_labels)"
   ]
  },
  {
   "cell_type": "code",
   "execution_count": 4,
   "id": "d030269e",
   "metadata": {},
   "outputs": [],
   "source": [
    "def mean(labels):\n",
    "    return sum(labels) / len(labels)\n",
    "\n",
    "def mode(labels):\n",
    "    return Counter(labels).most_common(1)[0][0]\n",
    "\n",
    "def euclidean_distance(point1, point2): \n",
    "    sum_squared_distance = 0\n",
    "    for i in range(len(point1)):\n",
    "        sum_squared_distance += math.pow(point1[i] - point2[i], 2) \n",
    "    return math.sqrt(sum_squared_distance)\n",
    "\n"
   ]
  },
  {
   "cell_type": "code",
   "execution_count": 5,
   "id": "5331d029",
   "metadata": {},
   "outputs": [],
   "source": [
    "def recommender(k, query):\n",
    "    values = df1.to_numpy()\n",
    "    transform_data(values)\n",
    "    k_nearest_neighbors, prediction = knn(values, query, k, euclidean_distance, mode)\n",
    "    nearest_index = k_nearest_neighbors[0][1]\n",
    "    return getOriginalData(values[nearest_index])\n",
    "\n",
    "def getOriginalData(value):\n",
    "    if value[1] == 0: value[1] = '?'\n",
    "    value[2] = list(make.keys())[list(make.values()).index(value[2])]\n",
    "    value[3] = list(fuel_type.keys())[list(fuel_type.values()).index(value[3])]\n",
    "    value[4] = list(aspiration.keys())[list(aspiration.values()).index(value[4])]\n",
    "    value[5] = list(num_doors.keys())[list(num_doors.values()).index(value[5])]\n",
    "    value[6] = list(body_style.keys())[list(body_style.values()).index(value[6])]\n",
    "    value[7] = list(drive_wheels.keys())[list(drive_wheels.values()).index(value[7])]\n",
    "    value[8] = list(engine_location.keys())[list(engine_location.values()).index(value[8])]\n",
    "    value[14] = list(engine_type.keys())[list(engine_type.values()).index(value[14])]\n",
    "    value[15] = list(num_cylinders.keys())[list(num_cylinders.values()).index(value[15])]\n",
    "    value[17] = list(fuel_system.keys())[list(fuel_system.values()).index(value[17])]\n",
    "    if value[18] == 0: value[18] = '?'\n",
    "    if value[19] == 0: value[19] = '?'\n",
    "    if value[21] == 0: value[21] = '?'\n",
    "    if value[22] == 0: value[22] = '?'\n",
    "    if value[25] == 0: value[25] = '?'\n",
    "    return value"
   ]
  },
  {
   "cell_type": "code",
   "execution_count": 6,
   "id": "55e00af9",
   "metadata": {},
   "outputs": [
    {
     "name": "stdout",
     "output_type": "stream",
     "text": [
      "k_nearest_labels= [7395.0, 6695.0, 6795.0, 6095.0, 5118.0]\n",
      "k_nearest_labels= [7395.0, 6695.0, 6795.0, 6095.0, 5118.0, 5195.0, 7349.0, 7499.0, 7999.0, 7799.0]\n",
      "[1 113 'mazda' 'gas' 'std' 'four' 'sedan' 'fwd' 'front' 93.1 166.8 64.2\n",
      " 54.1 1950 'ohc' 'four' 91 '2bbl' 3.08 3.15 9.0 68.0 5000.0 31 38 7395.0]\n",
      "[1 113 'mazda' 'gas' 'std' 'four' 'sedan' 'fwd' 'front' 93.1 166.8 64.2\n",
      " 54.1 1950 'ohc' 'four' 91 '2bbl' 3.08 3.15 9.0 68.0 5000.0 31 38 7395.0]\n"
     ]
    }
   ],
   "source": [
    "query = [1, 100, make['bmw'], fuel_type['gas'], aspiration['std'], num_doors['four'],\n",
    "         body_style['sedan'], drive_wheels['fwd'], engine_location['front'], 100.0,\n",
    "         170.0, 65.0, 50.0, 2000, engine_type['rotor'], num_cylinders ['four'], 200,\n",
    "         fuel_system['mfi'], 3.0, 3.0, 15, 200, 5000, 23, 27, 30000]\n",
    "\n",
    "five_rec = recommender(5, query)\n",
    "\n",
    "ten_rec = recommender(10,query)\n",
    "         \n",
    "print(five_rec)\n",
    "print(ten_rec)"
   ]
  },
  {
   "cell_type": "markdown",
   "id": "6296b3ba",
   "metadata": {},
   "source": [
    "## Number 2 "
   ]
  },
  {
   "cell_type": "code",
   "execution_count": 24,
   "id": "d5b27b2a",
   "metadata": {},
   "outputs": [],
   "source": [
    "from sklearn.naive_bayes import GaussianNB\n",
    "model = GaussianNB()"
   ]
  },
  {
   "cell_type": "markdown",
   "id": "6926f6ce",
   "metadata": {},
   "source": [
    "### A. "
   ]
  },
  {
   "cell_type": "code",
   "execution_count": 7,
   "id": "827768fb",
   "metadata": {},
   "outputs": [],
   "source": [
    "import numpy as np\n",
    "\n",
    "color=np.array(['red','blue','green','blue','blue','blue','red','green','green','blue ',\n",
    "                'blue','red' ], dtype = str)\n",
    "shape=np.array(['square','circle','square','square','square','circle','square','circle',\n",
    "                'square','circle','square','square'], dtype = str)\n",
    "labels=np.array(['plus','plus','plus','minus','minus','plus','plus','minus','plus','minus',\n",
    "                'plus','minus'], dtype = str)\n"
   ]
  },
  {
   "cell_type": "code",
   "execution_count": 8,
   "id": "3ee8de57",
   "metadata": {},
   "outputs": [
    {
     "name": "stdout",
     "output_type": "stream",
     "text": [
      "[3 0 2 0 0 0 3 2 2 1 0 3]\n"
     ]
    }
   ],
   "source": [
    "from sklearn import preprocessing\n",
    "\n",
    "le = preprocessing.LabelEncoder()\n",
    "\n",
    "color_encoded=le.fit_transform(color)\n",
    "print(color_encoded)"
   ]
  },
  {
   "cell_type": "code",
   "execution_count": 9,
   "id": "41394da3",
   "metadata": {},
   "outputs": [
    {
     "name": "stdout",
     "output_type": "stream",
     "text": [
      "Shape:  [1 0 1 1 1 0 1 0 1 0 1 1]\n",
      "Label:  [1 1 1 0 0 1 1 0 1 0 1 0]\n"
     ]
    }
   ],
   "source": [
    "shape_encoded=le.fit_transform(shape)\n",
    "label_encoded=le.fit_transform(labels)\n",
    "print(\"Shape: \", shape_encoded)\n",
    "print(\"Label: \", label_encoded)\n"
   ]
  },
  {
   "cell_type": "code",
   "execution_count": 10,
   "id": "554276e6",
   "metadata": {},
   "outputs": [
    {
     "name": "stdout",
     "output_type": "stream",
     "text": [
      "[(3, 1), (0, 0), (2, 1), (0, 1), (0, 1), (0, 0), (3, 1), (2, 0), (2, 1), (1, 0), (0, 1), (3, 1)]\n"
     ]
    }
   ],
   "source": [
    "features1=list(zip(color_encoded, shape_encoded))\n",
    "print(features1)\n",
    "#f2 = zip(label_encoded)\n",
    "#print(list(f2))"
   ]
  },
  {
   "cell_type": "code",
   "execution_count": 11,
   "id": "6a7a4e63",
   "metadata": {},
   "outputs": [
    {
     "name": "stdout",
     "output_type": "stream",
     "text": [
      "Predicted value:  [1]\n",
      "Plus\n"
     ]
    }
   ],
   "source": [
    "from sklearn.naive_bayes import GaussianNB\n",
    "\n",
    "model1 = GaussianNB()\n",
    "\n",
    "model1.fit(features1, label_encoded)\n",
    "\n",
    "GaussianNB()\n",
    "\n",
    "predicted1 = model1.predict([[0,2]])\n",
    "#predicted1 = model.predict[[(0,2)]] # 0:blue, 2: square\n",
    "print(\"Predicted value: \", predicted1)\n",
    "\n",
    "if(predicted1 == 1):\n",
    "    print(\"Plus\")\n",
    "else:\n",
    "    print(\"Minus\")\n",
    "    \n"
   ]
  },
  {
   "cell_type": "code",
   "execution_count": 12,
   "id": "0f2d3682",
   "metadata": {},
   "outputs": [
    {
     "name": "stdout",
     "output_type": "stream",
     "text": [
      "Predicted value:  [1]\n",
      "Plus\n"
     ]
    }
   ],
   "source": [
    "predicted2 = model1.predict([[4,2]])\n",
    "print(\"Predicted value: \", predicted2)\n",
    "# 4: yellow, 2: square\n",
    "\n",
    "if(predicted1 == 1):\n",
    "    print(\"Plus\")\n",
    "else:\n",
    "    print(\"Minus\")"
   ]
  },
  {
   "cell_type": "code",
   "execution_count": 13,
   "id": "99d60dcf",
   "metadata": {},
   "outputs": [],
   "source": [
    "weather=['Sunny','Sunny','Overcast','Rainfall','Rainfall','Rainfall','Overcast','Sunny','Sunny',\n",
    "'Rainfall','Sunny','Overcast','Overcast','Rainfall']\n",
    "temp=['Hot','Hot','Hot','Mild','Cool','Cool','Cool','Mild','Cool','Mild','Mild','Mild','Hot','Mild']\n",
    "\n",
    "decision=['No','No','Yes','Yes','Yes','No','Yes','No','Yes','Yes','Yes','Yes','Yes','No']"
   ]
  },
  {
   "cell_type": "code",
   "execution_count": 14,
   "id": "d9d61fcf",
   "metadata": {},
   "outputs": [
    {
     "name": "stdout",
     "output_type": "stream",
     "text": [
      "[2 2 0 1 1 1 0 2 2 1 2 0 0 1]\n"
     ]
    }
   ],
   "source": [
    "from sklearn import preprocessing\n",
    "\n",
    "le = preprocessing.LabelEncoder()\n",
    "weather_encoded=le.fit_transform(weather)\n",
    "print (weather_encoded)"
   ]
  },
  {
   "cell_type": "code",
   "execution_count": 15,
   "id": "4700cad2",
   "metadata": {},
   "outputs": [
    {
     "name": "stdout",
     "output_type": "stream",
     "text": [
      "Temp: [1 1 1 2 0 0 0 2 0 2 2 2 1 2]\n",
      "Decision: [0 0 1 1 1 0 1 0 1 1 1 1 1 0]\n"
     ]
    }
   ],
   "source": [
    "temp_encoded=le.fit_transform(temp)\n",
    "dec=le.fit_transform(decision)\n",
    "print (\"Temp:\",temp_encoded)\n",
    "print (\"Decision:\",dec)"
   ]
  },
  {
   "cell_type": "code",
   "execution_count": 16,
   "id": "95f25ed9",
   "metadata": {},
   "outputs": [
    {
     "name": "stdout",
     "output_type": "stream",
     "text": [
      "[(2, 1), (2, 1), (0, 1), (1, 2), (1, 0), (1, 0), (0, 0), (2, 2), (2, 0), (1, 2), (2, 2), (0, 2), (0, 1), (1, 2)]\n"
     ]
    }
   ],
   "source": [
    "features2=list(zip(weather_encoded,temp_encoded))\n",
    "print(features2)\n"
   ]
  },
  {
   "cell_type": "code",
   "execution_count": 17,
   "id": "4bb66cff",
   "metadata": {},
   "outputs": [
    {
     "name": "stdout",
     "output_type": "stream",
     "text": [
      "Predicted Value: [1]\n"
     ]
    }
   ],
   "source": [
    "from sklearn.naive_bayes import GaussianNB\n",
    "\n",
    "model = GaussianNB()\n",
    "\n",
    "model.fit(features2,dec)\n",
    "\n",
    "predicted= model.predict([[0,2]]) # 0:Overcast, 2:Mild\n",
    "print (\"Predicted Value:\", predicted)"
   ]
  },
  {
   "cell_type": "code",
   "execution_count": 18,
   "id": "d115f27f",
   "metadata": {},
   "outputs": [
    {
     "name": "stdout",
     "output_type": "stream",
     "text": [
      "Yes\n"
     ]
    }
   ],
   "source": [
    "if(predicted == 1):\n",
    "    print(\"Yes\")\n",
    "else:\n",
    "    print(\"No\")"
   ]
  },
  {
   "cell_type": "markdown",
   "id": "a4c0b418",
   "metadata": {},
   "source": [
    "## Number 3 "
   ]
  },
  {
   "cell_type": "code",
   "execution_count": 12,
   "id": "77b09f21",
   "metadata": {},
   "outputs": [
    {
     "data": {
      "text/html": [
       "<div>\n",
       "<style scoped>\n",
       "    .dataframe tbody tr th:only-of-type {\n",
       "        vertical-align: middle;\n",
       "    }\n",
       "\n",
       "    .dataframe tbody tr th {\n",
       "        vertical-align: top;\n",
       "    }\n",
       "\n",
       "    .dataframe thead th {\n",
       "        text-align: right;\n",
       "    }\n",
       "</style>\n",
       "<table border=\"1\" class=\"dataframe\">\n",
       "  <thead>\n",
       "    <tr style=\"text-align: right;\">\n",
       "      <th></th>\n",
       "      <th>age</th>\n",
       "      <th>anaemia</th>\n",
       "      <th>creatinine_phosphokinase</th>\n",
       "      <th>diabetes</th>\n",
       "      <th>ejection_fraction</th>\n",
       "      <th>high_blood_pressure</th>\n",
       "      <th>platelets</th>\n",
       "      <th>serum_creatinine</th>\n",
       "      <th>serum_sodium</th>\n",
       "      <th>sex</th>\n",
       "      <th>smoking</th>\n",
       "      <th>time</th>\n",
       "      <th>DEATH_EVENT</th>\n",
       "    </tr>\n",
       "  </thead>\n",
       "  <tbody>\n",
       "    <tr>\n",
       "      <th>0</th>\n",
       "      <td>75.0</td>\n",
       "      <td>0</td>\n",
       "      <td>582</td>\n",
       "      <td>0</td>\n",
       "      <td>20</td>\n",
       "      <td>1</td>\n",
       "      <td>265000.00</td>\n",
       "      <td>1.9</td>\n",
       "      <td>130</td>\n",
       "      <td>1</td>\n",
       "      <td>0</td>\n",
       "      <td>4</td>\n",
       "      <td>1</td>\n",
       "    </tr>\n",
       "    <tr>\n",
       "      <th>1</th>\n",
       "      <td>55.0</td>\n",
       "      <td>0</td>\n",
       "      <td>7861</td>\n",
       "      <td>0</td>\n",
       "      <td>38</td>\n",
       "      <td>0</td>\n",
       "      <td>263358.03</td>\n",
       "      <td>1.1</td>\n",
       "      <td>136</td>\n",
       "      <td>1</td>\n",
       "      <td>0</td>\n",
       "      <td>6</td>\n",
       "      <td>1</td>\n",
       "    </tr>\n",
       "    <tr>\n",
       "      <th>2</th>\n",
       "      <td>65.0</td>\n",
       "      <td>0</td>\n",
       "      <td>146</td>\n",
       "      <td>0</td>\n",
       "      <td>20</td>\n",
       "      <td>0</td>\n",
       "      <td>162000.00</td>\n",
       "      <td>1.3</td>\n",
       "      <td>129</td>\n",
       "      <td>1</td>\n",
       "      <td>1</td>\n",
       "      <td>7</td>\n",
       "      <td>1</td>\n",
       "    </tr>\n",
       "    <tr>\n",
       "      <th>3</th>\n",
       "      <td>50.0</td>\n",
       "      <td>1</td>\n",
       "      <td>111</td>\n",
       "      <td>0</td>\n",
       "      <td>20</td>\n",
       "      <td>0</td>\n",
       "      <td>210000.00</td>\n",
       "      <td>1.9</td>\n",
       "      <td>137</td>\n",
       "      <td>1</td>\n",
       "      <td>0</td>\n",
       "      <td>7</td>\n",
       "      <td>1</td>\n",
       "    </tr>\n",
       "    <tr>\n",
       "      <th>4</th>\n",
       "      <td>65.0</td>\n",
       "      <td>1</td>\n",
       "      <td>160</td>\n",
       "      <td>1</td>\n",
       "      <td>20</td>\n",
       "      <td>0</td>\n",
       "      <td>327000.00</td>\n",
       "      <td>2.7</td>\n",
       "      <td>116</td>\n",
       "      <td>0</td>\n",
       "      <td>0</td>\n",
       "      <td>8</td>\n",
       "      <td>1</td>\n",
       "    </tr>\n",
       "  </tbody>\n",
       "</table>\n",
       "</div>"
      ],
      "text/plain": [
       "    age  anaemia  creatinine_phosphokinase  diabetes  ejection_fraction  \\\n",
       "0  75.0        0                       582         0                 20   \n",
       "1  55.0        0                      7861         0                 38   \n",
       "2  65.0        0                       146         0                 20   \n",
       "3  50.0        1                       111         0                 20   \n",
       "4  65.0        1                       160         1                 20   \n",
       "\n",
       "   high_blood_pressure  platelets  serum_creatinine  serum_sodium  sex  \\\n",
       "0                    1  265000.00               1.9           130    1   \n",
       "1                    0  263358.03               1.1           136    1   \n",
       "2                    0  162000.00               1.3           129    1   \n",
       "3                    0  210000.00               1.9           137    1   \n",
       "4                    0  327000.00               2.7           116    0   \n",
       "\n",
       "   smoking  time  DEATH_EVENT  \n",
       "0        0     4            1  \n",
       "1        0     6            1  \n",
       "2        1     7            1  \n",
       "3        0     7            1  \n",
       "4        0     8            1  "
      ]
     },
     "execution_count": 12,
     "metadata": {},
     "output_type": "execute_result"
    }
   ],
   "source": [
    "import pandas as pd\n",
    "\n",
    "data2 = \"https://archive.ics.uci.edu/ml/machine-learning-databases/00519/heart_failure_clinical_records_dataset.csv\"\n",
    "df2 = pd.read_csv(data2, header=0)\n",
    "\n",
    "df2.head()"
   ]
  },
  {
   "cell_type": "code",
   "execution_count": 13,
   "id": "2fa650a6",
   "metadata": {},
   "outputs": [],
   "source": [
    "from sklearn.model_selection import train_test_split\n",
    "\n",
    "X2, y2 = df2.iloc[:, 0:].values, df2.iloc[:, 1].values\n",
    "\n",
    "X2_train, X2_test, y2_train, y2_test = \\\n",
    "    train_test_split(X2, y2, test_size=0.3, \n",
    "                     #stratify=y2,\n",
    "                     random_state=0)"
   ]
  },
  {
   "cell_type": "code",
   "execution_count": 14,
   "id": "c59aac3d",
   "metadata": {},
   "outputs": [],
   "source": [
    "from sklearn.preprocessing import StandardScaler\n",
    "\n",
    "sc = StandardScaler()\n",
    "X2_train_std = sc.fit_transform(X2_train)\n",
    "X2_test_std = sc.transform(X2_test)"
   ]
  },
  {
   "cell_type": "code",
   "execution_count": 15,
   "id": "c42392e1",
   "metadata": {},
   "outputs": [
    {
     "name": "stdout",
     "output_type": "stream",
     "text": [
      "\n",
      "Eigenvalues \n",
      "[2.23276661 1.66357647 1.34903795 0.35769537 1.18340591 0.52189062\n",
      " 0.60458491 0.64202073 0.7569226  1.02210951 0.8328104  0.96466803\n",
      " 0.9310109 ]\n"
     ]
    }
   ],
   "source": [
    "import numpy as np\n",
    "cov_mat = np.cov(X2_train_std.T)\n",
    "eigen_vals, eigen_vecs = np.linalg.eig(cov_mat)\n",
    "\n",
    "print('\\nEigenvalues \\n%s' % eigen_vals)"
   ]
  },
  {
   "cell_type": "code",
   "execution_count": 16,
   "id": "3dd15253",
   "metadata": {},
   "outputs": [],
   "source": [
    "tot = sum(eigen_vals)\n",
    "var_exp = [(i / tot) for i in sorted(eigen_vals, reverse=True)]\n",
    "cum_var_exp = np.cumsum(var_exp)"
   ]
  },
  {
   "cell_type": "code",
   "execution_count": 17,
   "id": "b4b66c26",
   "metadata": {},
   "outputs": [],
   "source": [
    "# Make a list of (eigenvalue, eigenvector) tuples\n",
    "eigen_pairs = [(np.abs(eigen_vals[i]), eigen_vecs[:, i])\n",
    "               for i in range(len(eigen_vals))]\n",
    "\n",
    "# Sort the (eigenvalue, eigenvector) tuples from high to low\n",
    "eigen_pairs.sort(key=lambda k: k[0], reverse=True)"
   ]
  },
  {
   "cell_type": "code",
   "execution_count": 18,
   "id": "05cdb58f",
   "metadata": {},
   "outputs": [
    {
     "name": "stdout",
     "output_type": "stream",
     "text": [
      "Matrix W:\n",
      " [[ 0.3377321   0.13741518]\n",
      " [ 0.16140406 -0.10434718]\n",
      " [-0.0674228  -0.03379766]\n",
      " [-0.02862381 -0.38990585]\n",
      " [-0.27823592  0.04239076]\n",
      " [ 0.10638056 -0.15528009]\n",
      " [-0.09520567 -0.24657724]\n",
      " [ 0.39751651  0.06481503]\n",
      " [-0.28896788  0.0811878 ]\n",
      " [ 0.0828519   0.60775783]\n",
      " [ 0.02815101  0.57206181]\n",
      " [-0.47874391  0.08595423]\n",
      " [ 0.52758883 -0.12468278]]\n"
     ]
    }
   ],
   "source": [
    "w = np.hstack((eigen_pairs[0][1][:, np.newaxis],\n",
    "               eigen_pairs[1][1][:, np.newaxis]))\n",
    "print('Matrix W:\\n', w)"
   ]
  },
  {
   "cell_type": "code",
   "execution_count": 19,
   "id": "07167f09",
   "metadata": {},
   "outputs": [
    {
     "data": {
      "text/plain": [
       "array([-0.23849263,  2.79707895])"
      ]
     },
     "execution_count": 19,
     "metadata": {},
     "output_type": "execute_result"
    }
   ],
   "source": [
    "X2_train_std[0].dot(w)"
   ]
  },
  {
   "cell_type": "code",
   "execution_count": 20,
   "id": "0eb65370",
   "metadata": {},
   "outputs": [
    {
     "data": {
      "text/plain": [
       "array([0.1709295 , 0.12735514, 0.10327563, 0.09059567, 0.07824762,\n",
       "       0.07385018, 0.07127356, 0.06375582, 0.05794623, 0.04914991,\n",
       "       0.04628401, 0.03995335, 0.02738338])"
      ]
     },
     "execution_count": 20,
     "metadata": {},
     "output_type": "execute_result"
    }
   ],
   "source": [
    "from sklearn.decomposition import PCA\n",
    "\n",
    "pca = PCA()\n",
    "X2_train_pca = pca.fit_transform(X2_train_std)\n",
    "pca.explained_variance_ratio_"
   ]
  },
  {
   "cell_type": "code",
   "execution_count": 21,
   "id": "a4ea449d",
   "metadata": {},
   "outputs": [],
   "source": [
    "from sklearn.linear_model import LogisticRegression\n",
    "\n",
    "pca = PCA(n_components=2)\n",
    "X2_train_pca = pca.fit_transform(X2_train_std)\n",
    "X2_test_pca = pca.transform(X2_test_std)\n",
    "\n",
    "lr = LogisticRegression(multi_class='ovr', random_state=1, solver='lbfgs')\n",
    "lr = lr.fit(X2_train_pca, y2_train)"
   ]
  },
  {
   "cell_type": "code",
   "execution_count": 22,
   "id": "1310658e",
   "metadata": {},
   "outputs": [
    {
     "data": {
      "image/png": "[encoded data removed]",
      "text/plain": [
       "<Figure size 432x288 with 1 Axes>"
      ]
     },
     "metadata": {
      "needs_background": "light"
     },
     "output_type": "display_data"
    }
   ],
   "source": [
    "import matplotlib.pyplot as plt\n",
    "\n",
    "\n",
    "plt.bar(range(1, 14), var_exp, alpha=0.5, align='center',\n",
    "        label='Individual explained variance')\n",
    "plt.step(range(1, 14), cum_var_exp, where='mid',\n",
    "         label='Cumulative explained variance')\n",
    "plt.ylabel('Explained variance ratio')\n",
    "plt.xlabel('Principal component index')\n",
    "plt.legend(loc='best')\n",
    "plt.tight_layout()\n",
    "plt.show()"
   ]
  },
  {
   "cell_type": "code",
   "execution_count": 23,
   "id": "845af7fb",
   "metadata": {},
   "outputs": [
    {
     "data": {
      "image/png": "[encoded data removed]",
      "text/plain": [
       "<Figure size 432x288 with 1 Axes>"
      ]
     },
     "metadata": {
      "needs_background": "light"
     },
     "output_type": "display_data"
    }
   ],
   "source": [
    "import matplotlib.pyplot as plt\n",
    "\n",
    "X2_train_pca = X2_train_std.dot(w)\n",
    "colors = ['r', 'b', 'g']\n",
    "markers = ['s', 'x', 'o']\n",
    "\n",
    "for l, c, m in zip(np.unique(y2_train), colors, markers):\n",
    "    plt.scatter(X2_train_pca[y2_train == l, 0], \n",
    "                X2_train_pca[y2_train == l, 1], \n",
    "                c=c, label=l, marker=m)\n",
    "\n",
    "plt.xlabel('PC 1')\n",
    "plt.ylabel('PC 2')\n",
    "plt.legend(loc='lower left')\n",
    "plt.tight_layout()\n",
    "plt.show()"
   ]
  },
  {
   "cell_type": "code",
   "execution_count": null,
   "id": "29337fa4",
   "metadata": {},
   "outputs": [],
   "source": []
  },
  {
   "cell_type": "code",
   "execution_count": null,
   "id": "57a404ce",
   "metadata": {},
   "outputs": [],
   "source": [
    "ax4"
   ]
  }
 ],
 "metadata": {
  "kernelspec": {
   "display_name": "Python 3",
   "language": "python",
   "name": "python3"
  },
  "language_info": {
   "codemirror_mode": {
    "name": "ipython",
    "version": 3
   },
   "file_extension": ".py",
   "mimetype": "text/x-python",
   "name": "python",
   "nbconvert_exporter": "python",
   "pygments_lexer": "ipython3",
   "version": "3.9.2"
  }
 },
 "nbformat": 4,
 "nbformat_minor": 5
}
